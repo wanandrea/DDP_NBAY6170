{
 "cells": [
  {
   "cell_type": "markdown",
   "id": "581ac777",
   "metadata": {},
   "source": [
    "Source of the Data: https://www.kaggle.com/datasets/ninopadilla13/employee-churn "
   ]
  },
  {
   "cell_type": "markdown",
   "id": "7c243610",
   "metadata": {},
   "source": [
    "We choose regression to predict the Satisfaction of employees"
   ]
  },
  {
   "cell_type": "code",
   "execution_count": 40,
   "id": "76ac07f3",
   "metadata": {},
   "outputs": [],
   "source": [
    "#packages needed\n",
    "import pandas as pd\n",
    "import sklearn\n",
    "from sklearn import linear_model\n",
    "import numpy as np\n",
    "import statsmodels.api as sm\n",
    "from statsmodels.stats.outliers_influence import variance_inflation_factor\n",
    "from sklearn import metrics\n",
    "import matplotlib.pyplot as plt"
   ]
  },
  {
   "cell_type": "markdown",
   "id": "1310c9f5",
   "metadata": {},
   "source": [
    "First, we clean up the data a bit and observe the patterns"
   ]
  },
  {
   "cell_type": "code",
   "execution_count": 5,
   "id": "54d833c1",
   "metadata": {},
   "outputs": [
    {
     "data": {
      "text/html": [
       "<div>\n",
       "<style scoped>\n",
       "    .dataframe tbody tr th:only-of-type {\n",
       "        vertical-align: middle;\n",
       "    }\n",
       "\n",
       "    .dataframe tbody tr th {\n",
       "        vertical-align: top;\n",
       "    }\n",
       "\n",
       "    .dataframe thead th {\n",
       "        text-align: right;\n",
       "    }\n",
       "</style>\n",
       "<table border=\"1\" class=\"dataframe\">\n",
       "  <thead>\n",
       "    <tr style=\"text-align: right;\">\n",
       "      <th></th>\n",
       "      <th>avg_monthly_hrs</th>\n",
       "      <th>department</th>\n",
       "      <th>filed_complaint</th>\n",
       "      <th>last_evaluation</th>\n",
       "      <th>n_projects</th>\n",
       "      <th>recently_promoted</th>\n",
       "      <th>salary</th>\n",
       "      <th>satisfaction</th>\n",
       "      <th>status</th>\n",
       "      <th>tenure</th>\n",
       "    </tr>\n",
       "  </thead>\n",
       "  <tbody>\n",
       "    <tr>\n",
       "      <th>0</th>\n",
       "      <td>221</td>\n",
       "      <td>engineering</td>\n",
       "      <td>NaN</td>\n",
       "      <td>0.932868</td>\n",
       "      <td>4</td>\n",
       "      <td>NaN</td>\n",
       "      <td>low</td>\n",
       "      <td>0.829896</td>\n",
       "      <td>Left</td>\n",
       "      <td>5.0</td>\n",
       "    </tr>\n",
       "    <tr>\n",
       "      <th>1</th>\n",
       "      <td>232</td>\n",
       "      <td>support</td>\n",
       "      <td>NaN</td>\n",
       "      <td>NaN</td>\n",
       "      <td>3</td>\n",
       "      <td>NaN</td>\n",
       "      <td>low</td>\n",
       "      <td>0.834544</td>\n",
       "      <td>Employed</td>\n",
       "      <td>2.0</td>\n",
       "    </tr>\n",
       "    <tr>\n",
       "      <th>2</th>\n",
       "      <td>184</td>\n",
       "      <td>sales</td>\n",
       "      <td>NaN</td>\n",
       "      <td>0.788830</td>\n",
       "      <td>3</td>\n",
       "      <td>NaN</td>\n",
       "      <td>medium</td>\n",
       "      <td>0.834988</td>\n",
       "      <td>Employed</td>\n",
       "      <td>3.0</td>\n",
       "    </tr>\n",
       "    <tr>\n",
       "      <th>3</th>\n",
       "      <td>206</td>\n",
       "      <td>sales</td>\n",
       "      <td>NaN</td>\n",
       "      <td>0.575688</td>\n",
       "      <td>4</td>\n",
       "      <td>NaN</td>\n",
       "      <td>low</td>\n",
       "      <td>0.424764</td>\n",
       "      <td>Employed</td>\n",
       "      <td>2.0</td>\n",
       "    </tr>\n",
       "    <tr>\n",
       "      <th>4</th>\n",
       "      <td>249</td>\n",
       "      <td>sales</td>\n",
       "      <td>NaN</td>\n",
       "      <td>0.845217</td>\n",
       "      <td>3</td>\n",
       "      <td>NaN</td>\n",
       "      <td>low</td>\n",
       "      <td>0.779043</td>\n",
       "      <td>Employed</td>\n",
       "      <td>3.0</td>\n",
       "    </tr>\n",
       "  </tbody>\n",
       "</table>\n",
       "</div>"
      ],
      "text/plain": [
       "   avg_monthly_hrs   department  filed_complaint  last_evaluation  n_projects  \\\n",
       "0              221  engineering              NaN         0.932868           4   \n",
       "1              232      support              NaN              NaN           3   \n",
       "2              184        sales              NaN         0.788830           3   \n",
       "3              206        sales              NaN         0.575688           4   \n",
       "4              249        sales              NaN         0.845217           3   \n",
       "\n",
       "   recently_promoted  salary  satisfaction    status  tenure  \n",
       "0                NaN     low      0.829896      Left     5.0  \n",
       "1                NaN     low      0.834544  Employed     2.0  \n",
       "2                NaN  medium      0.834988  Employed     3.0  \n",
       "3                NaN     low      0.424764  Employed     2.0  \n",
       "4                NaN     low      0.779043  Employed     3.0  "
      ]
     },
     "execution_count": 5,
     "metadata": {},
     "output_type": "execute_result"
    }
   ],
   "source": [
    "employee_churn = pd.read_csv(r'employee_churn.csv')\n",
    "employee_churn.head()"
   ]
  },
  {
   "cell_type": "markdown",
   "id": "fd8636b0",
   "metadata": {},
   "source": [
    "We observed many categorical data so I transformed salary and status to digits and kept department as it is "
   ]
  },
  {
   "cell_type": "code",
   "execution_count": 6,
   "id": "5db18e52",
   "metadata": {
    "scrolled": true
   },
   "outputs": [
    {
     "data": {
      "text/html": [
       "<div>\n",
       "<style scoped>\n",
       "    .dataframe tbody tr th:only-of-type {\n",
       "        vertical-align: middle;\n",
       "    }\n",
       "\n",
       "    .dataframe tbody tr th {\n",
       "        vertical-align: top;\n",
       "    }\n",
       "\n",
       "    .dataframe thead th {\n",
       "        text-align: right;\n",
       "    }\n",
       "</style>\n",
       "<table border=\"1\" class=\"dataframe\">\n",
       "  <thead>\n",
       "    <tr style=\"text-align: right;\">\n",
       "      <th></th>\n",
       "      <th>avg_monthly_hrs</th>\n",
       "      <th>filed_complaint</th>\n",
       "      <th>last_evaluation</th>\n",
       "      <th>n_projects</th>\n",
       "      <th>recently_promoted</th>\n",
       "      <th>salary</th>\n",
       "      <th>satisfaction</th>\n",
       "      <th>status</th>\n",
       "      <th>tenure</th>\n",
       "    </tr>\n",
       "  </thead>\n",
       "  <tbody>\n",
       "    <tr>\n",
       "      <th>count</th>\n",
       "      <td>14249.000000</td>\n",
       "      <td>14249.000000</td>\n",
       "      <td>14249.000000</td>\n",
       "      <td>14249.000000</td>\n",
       "      <td>14249.000000</td>\n",
       "      <td>14249.000000</td>\n",
       "      <td>14249.000000</td>\n",
       "      <td>14249.000000</td>\n",
       "      <td>14249.000000</td>\n",
       "    </tr>\n",
       "    <tr>\n",
       "      <th>mean</th>\n",
       "      <td>199.795775</td>\n",
       "      <td>0.144431</td>\n",
       "      <td>0.641229</td>\n",
       "      <td>3.773809</td>\n",
       "      <td>0.021054</td>\n",
       "      <td>1.592884</td>\n",
       "      <td>0.613403</td>\n",
       "      <td>0.238052</td>\n",
       "      <td>3.452804</td>\n",
       "    </tr>\n",
       "    <tr>\n",
       "      <th>std</th>\n",
       "      <td>50.998714</td>\n",
       "      <td>0.351539</td>\n",
       "      <td>0.276165</td>\n",
       "      <td>1.253126</td>\n",
       "      <td>0.143570</td>\n",
       "      <td>0.634788</td>\n",
       "      <td>0.258417</td>\n",
       "      <td>0.425906</td>\n",
       "      <td>1.503517</td>\n",
       "    </tr>\n",
       "    <tr>\n",
       "      <th>min</th>\n",
       "      <td>49.000000</td>\n",
       "      <td>0.000000</td>\n",
       "      <td>0.000000</td>\n",
       "      <td>1.000000</td>\n",
       "      <td>0.000000</td>\n",
       "      <td>1.000000</td>\n",
       "      <td>0.000000</td>\n",
       "      <td>0.000000</td>\n",
       "      <td>0.000000</td>\n",
       "    </tr>\n",
       "    <tr>\n",
       "      <th>25%</th>\n",
       "      <td>155.000000</td>\n",
       "      <td>0.000000</td>\n",
       "      <td>0.521363</td>\n",
       "      <td>3.000000</td>\n",
       "      <td>0.000000</td>\n",
       "      <td>1.000000</td>\n",
       "      <td>0.442048</td>\n",
       "      <td>0.000000</td>\n",
       "      <td>3.000000</td>\n",
       "    </tr>\n",
       "    <tr>\n",
       "      <th>50%</th>\n",
       "      <td>199.000000</td>\n",
       "      <td>0.000000</td>\n",
       "      <td>0.682387</td>\n",
       "      <td>4.000000</td>\n",
       "      <td>0.000000</td>\n",
       "      <td>2.000000</td>\n",
       "      <td>0.647489</td>\n",
       "      <td>0.000000</td>\n",
       "      <td>3.000000</td>\n",
       "    </tr>\n",
       "    <tr>\n",
       "      <th>75%</th>\n",
       "      <td>245.000000</td>\n",
       "      <td>0.000000</td>\n",
       "      <td>0.856517</td>\n",
       "      <td>5.000000</td>\n",
       "      <td>0.000000</td>\n",
       "      <td>2.000000</td>\n",
       "      <td>0.822709</td>\n",
       "      <td>0.000000</td>\n",
       "      <td>4.000000</td>\n",
       "    </tr>\n",
       "    <tr>\n",
       "      <th>max</th>\n",
       "      <td>310.000000</td>\n",
       "      <td>1.000000</td>\n",
       "      <td>1.000000</td>\n",
       "      <td>7.000000</td>\n",
       "      <td>1.000000</td>\n",
       "      <td>3.000000</td>\n",
       "      <td>1.000000</td>\n",
       "      <td>1.000000</td>\n",
       "      <td>10.000000</td>\n",
       "    </tr>\n",
       "  </tbody>\n",
       "</table>\n",
       "</div>"
      ],
      "text/plain": [
       "       avg_monthly_hrs  filed_complaint  last_evaluation    n_projects  \\\n",
       "count     14249.000000     14249.000000     14249.000000  14249.000000   \n",
       "mean        199.795775         0.144431         0.641229      3.773809   \n",
       "std          50.998714         0.351539         0.276165      1.253126   \n",
       "min          49.000000         0.000000         0.000000      1.000000   \n",
       "25%         155.000000         0.000000         0.521363      3.000000   \n",
       "50%         199.000000         0.000000         0.682387      4.000000   \n",
       "75%         245.000000         0.000000         0.856517      5.000000   \n",
       "max         310.000000         1.000000         1.000000      7.000000   \n",
       "\n",
       "       recently_promoted        salary  satisfaction        status  \\\n",
       "count       14249.000000  14249.000000  14249.000000  14249.000000   \n",
       "mean            0.021054      1.592884      0.613403      0.238052   \n",
       "std             0.143570      0.634788      0.258417      0.425906   \n",
       "min             0.000000      1.000000      0.000000      0.000000   \n",
       "25%             0.000000      1.000000      0.442048      0.000000   \n",
       "50%             0.000000      2.000000      0.647489      0.000000   \n",
       "75%             0.000000      2.000000      0.822709      0.000000   \n",
       "max             1.000000      3.000000      1.000000      1.000000   \n",
       "\n",
       "             tenure  \n",
       "count  14249.000000  \n",
       "mean       3.452804  \n",
       "std        1.503517  \n",
       "min        0.000000  \n",
       "25%        3.000000  \n",
       "50%        3.000000  \n",
       "75%        4.000000  \n",
       "max       10.000000  "
      ]
     },
     "execution_count": 6,
     "metadata": {},
     "output_type": "execute_result"
    }
   ],
   "source": [
    "#cleaning the data\n",
    "employee_churn['salary'] = employee_churn['salary'].replace({'low': 1, 'medium': 2, 'high': 3}) #projecting categorical data to numerical\n",
    "employee_churn['status'] = employee_churn['status'].replace({'Left': 1, 'Employed': 0})\n",
    "employee_churn = employee_churn.fillna(0)\n",
    "employee_churn.describe()"
   ]
  },
  {
   "cell_type": "markdown",
   "id": "fabea086",
   "metadata": {},
   "source": [
    "For the ones that shows as NaN, I filled it in as 0 rather than deleting it but if we delete the row that has NaN, we won't be left with much data. I understand that there is a risk associated with it so later on I will perform standarization where we transform all columns to have a mean of 0 and a standard deviation of 1"
   ]
  },
  {
   "cell_type": "markdown",
   "id": "899aa15a",
   "metadata": {},
   "source": [
    "By looking at the distribution of the data, we can see that there are some binomial attributes, filed_complaint, recently promoted, status, and others follow normal distribution, such as average monthly hours."
   ]
  },
  {
   "cell_type": "markdown",
   "id": "2afebbdc",
   "metadata": {},
   "source": [
    "Linear Regression\n",
    "\n",
    "Did you analyze multi-collinearity? -yes\n",
    "Have you done the T-Test and F-Test? -yes\n",
    "Have you calculated an R-square? -yes"
   ]
  },
  {
   "cell_type": "code",
   "execution_count": 7,
   "id": "bd393f11",
   "metadata": {},
   "outputs": [
    {
     "data": {
      "image/png": "[encoded data removed]",
      "text/plain": [
       "<Figure size 720x720 with 9 Axes>"
      ]
     },
     "metadata": {
      "needs_background": "light"
     },
     "output_type": "display_data"
    }
   ],
   "source": [
    "#basic visualization\n",
    "employee_churn.hist(figsize=(10, 10));"
   ]
  },
  {
   "cell_type": "markdown",
   "id": "45800c6d",
   "metadata": {},
   "source": [
    "A collinearity is a special case when two or more variables are exactly correlated. It's important to check the assumptions first before go ahead to analysis. "
   ]
  },
  {
   "cell_type": "code",
   "execution_count": 13,
   "id": "9ea69954",
   "metadata": {},
   "outputs": [],
   "source": [
    "#check colinearity\n",
    "def compute_vif(considered_features):\n",
    "    \n",
    "    X = employee_churn[considered_features]\n",
    "    # the calculation of variance inflation requires a constant\n",
    "    X['intercept'] = 1\n",
    "    \n",
    "    # create dataframe to store vif values\n",
    "    vif = pd.DataFrame()\n",
    "    vif[\"Variable\"] = X.columns\n",
    "    vif[\"VIF\"] = [variance_inflation_factor(X.values, i) for i in range(X.shape[1])]\n",
    "    vif = vif[vif['Variable']!='intercept']\n",
    "    return vif"
   ]
  },
  {
   "cell_type": "code",
   "execution_count": 14,
   "id": "3ad69a47",
   "metadata": {},
   "outputs": [
    {
     "name": "stderr",
     "output_type": "stream",
     "text": [
      "<ipython-input-13-eafe787ee3ae>:6: SettingWithCopyWarning: \n",
      "A value is trying to be set on a copy of a slice from a DataFrame.\n",
      "Try using .loc[row_indexer,col_indexer] = value instead\n",
      "\n",
      "See the caveats in the documentation: https://pandas.pydata.org/pandas-docs/stable/user_guide/indexing.html#returning-a-view-versus-a-copy\n",
      "  X['intercept'] = 1\n"
     ]
    },
    {
     "data": {
      "text/html": [
       "<div>\n",
       "<style scoped>\n",
       "    .dataframe tbody tr th:only-of-type {\n",
       "        vertical-align: middle;\n",
       "    }\n",
       "\n",
       "    .dataframe tbody tr th {\n",
       "        vertical-align: top;\n",
       "    }\n",
       "\n",
       "    .dataframe thead th {\n",
       "        text-align: right;\n",
       "    }\n",
       "</style>\n",
       "<table border=\"1\" class=\"dataframe\">\n",
       "  <thead>\n",
       "    <tr style=\"text-align: right;\">\n",
       "      <th></th>\n",
       "      <th>Variable</th>\n",
       "      <th>VIF</th>\n",
       "    </tr>\n",
       "  </thead>\n",
       "  <tbody>\n",
       "    <tr>\n",
       "      <th>3</th>\n",
       "      <td>n_projects</td>\n",
       "      <td>1.330754</td>\n",
       "    </tr>\n",
       "    <tr>\n",
       "      <th>0</th>\n",
       "      <td>avg_monthly_hrs</td>\n",
       "      <td>1.293888</td>\n",
       "    </tr>\n",
       "    <tr>\n",
       "      <th>2</th>\n",
       "      <td>last_evaluation</td>\n",
       "      <td>1.205846</td>\n",
       "    </tr>\n",
       "    <tr>\n",
       "      <th>7</th>\n",
       "      <td>tenure</td>\n",
       "      <td>1.146642</td>\n",
       "    </tr>\n",
       "    <tr>\n",
       "      <th>6</th>\n",
       "      <td>status</td>\n",
       "      <td>1.083577</td>\n",
       "    </tr>\n",
       "    <tr>\n",
       "      <th>5</th>\n",
       "      <td>salary</td>\n",
       "      <td>1.037698</td>\n",
       "    </tr>\n",
       "    <tr>\n",
       "      <th>1</th>\n",
       "      <td>filed_complaint</td>\n",
       "      <td>1.027580</td>\n",
       "    </tr>\n",
       "    <tr>\n",
       "      <th>4</th>\n",
       "      <td>recently_promoted</td>\n",
       "      <td>1.019225</td>\n",
       "    </tr>\n",
       "  </tbody>\n",
       "</table>\n",
       "</div>"
      ],
      "text/plain": [
       "            Variable       VIF\n",
       "3         n_projects  1.330754\n",
       "0    avg_monthly_hrs  1.293888\n",
       "2    last_evaluation  1.205846\n",
       "7             tenure  1.146642\n",
       "6             status  1.083577\n",
       "5             salary  1.037698\n",
       "1    filed_complaint  1.027580\n",
       "4  recently_promoted  1.019225"
      ]
     },
     "execution_count": 14,
     "metadata": {},
     "output_type": "execute_result"
    }
   ],
   "source": [
    "# features to consider removing\n",
    "considered_features = ['avg_monthly_hrs', 'filed_complaint','last_evaluation', 'n_projects',\n",
    "       'recently_promoted', 'salary','status', 'tenure']\n",
    "\n",
    "# compute vif \n",
    "compute_vif(considered_features).sort_values('VIF', ascending=False)"
   ]
  },
  {
   "cell_type": "markdown",
   "id": "e9c82a4a",
   "metadata": {},
   "source": [
    "From the VIF table above, we can see that most of the VIFs are pretty similar in the 1 range, n_projects is the highest with 0.3. I don't think it's siginificant enough to rule it out right away but we can reserve the this question for later."
   ]
  },
  {
   "cell_type": "code",
   "execution_count": 15,
   "id": "cd66017a",
   "metadata": {},
   "outputs": [
    {
     "name": "stderr",
     "output_type": "stream",
     "text": [
      "<ipython-input-13-eafe787ee3ae>:6: SettingWithCopyWarning: \n",
      "A value is trying to be set on a copy of a slice from a DataFrame.\n",
      "Try using .loc[row_indexer,col_indexer] = value instead\n",
      "\n",
      "See the caveats in the documentation: https://pandas.pydata.org/pandas-docs/stable/user_guide/indexing.html#returning-a-view-versus-a-copy\n",
      "  X['intercept'] = 1\n"
     ]
    },
    {
     "data": {
      "text/html": [
       "<div>\n",
       "<style scoped>\n",
       "    .dataframe tbody tr th:only-of-type {\n",
       "        vertical-align: middle;\n",
       "    }\n",
       "\n",
       "    .dataframe tbody tr th {\n",
       "        vertical-align: top;\n",
       "    }\n",
       "\n",
       "    .dataframe thead th {\n",
       "        text-align: right;\n",
       "    }\n",
       "</style>\n",
       "<table border=\"1\" class=\"dataframe\">\n",
       "  <thead>\n",
       "    <tr style=\"text-align: right;\">\n",
       "      <th></th>\n",
       "      <th>Variable</th>\n",
       "      <th>VIF</th>\n",
       "    </tr>\n",
       "  </thead>\n",
       "  <tbody>\n",
       "    <tr>\n",
       "      <th>0</th>\n",
       "      <td>avg_monthly_hrs</td>\n",
       "      <td>1.109826</td>\n",
       "    </tr>\n",
       "    <tr>\n",
       "      <th>1</th>\n",
       "      <td>filed_complaint</td>\n",
       "      <td>1.027568</td>\n",
       "    </tr>\n",
       "    <tr>\n",
       "      <th>2</th>\n",
       "      <td>last_evaluation</td>\n",
       "      <td>1.165046</td>\n",
       "    </tr>\n",
       "    <tr>\n",
       "      <th>3</th>\n",
       "      <td>recently_promoted</td>\n",
       "      <td>1.019048</td>\n",
       "    </tr>\n",
       "    <tr>\n",
       "      <th>4</th>\n",
       "      <td>salary</td>\n",
       "      <td>1.037555</td>\n",
       "    </tr>\n",
       "    <tr>\n",
       "      <th>5</th>\n",
       "      <td>status</td>\n",
       "      <td>1.082080</td>\n",
       "    </tr>\n",
       "    <tr>\n",
       "      <th>6</th>\n",
       "      <td>tenure</td>\n",
       "      <td>1.126041</td>\n",
       "    </tr>\n",
       "  </tbody>\n",
       "</table>\n",
       "</div>"
      ],
      "text/plain": [
       "            Variable       VIF\n",
       "0    avg_monthly_hrs  1.109826\n",
       "1    filed_complaint  1.027568\n",
       "2    last_evaluation  1.165046\n",
       "3  recently_promoted  1.019048\n",
       "4             salary  1.037555\n",
       "5             status  1.082080\n",
       "6             tenure  1.126041"
      ]
     },
     "execution_count": 15,
     "metadata": {},
     "output_type": "execute_result"
    }
   ],
   "source": [
    "# compute vif values after removing a feature\n",
    "considered_features.remove('n_projects')\n",
    "compute_vif(considered_features)\n",
    "#conclusion the difference are quite small between the remaining of the features but we will consider removing n_projects"
   ]
  },
  {
   "cell_type": "markdown",
   "id": "ee17a4af",
   "metadata": {},
   "source": [
    "After taking out n_projects, the difference between each VIF is even similar and smaller so it looks like we don't have to worry about variables \"explain\" the same variance within this dataset."
   ]
  },
  {
   "cell_type": "markdown",
   "id": "4fa6a286",
   "metadata": {},
   "source": [
    "Next, as I mentioned above, we want to stantardize the data."
   ]
  },
  {
   "cell_type": "code",
   "execution_count": 16,
   "id": "df174af6",
   "metadata": {},
   "outputs": [
    {
     "name": "stdout",
     "output_type": "stream",
     "text": [
      "[-2.05448528e-16 -1.74531516e-17  3.59036262e-17 -9.02577270e-17\n",
      "  5.28581164e-17 -5.98393770e-17 -1.63560964e-16 -3.98929180e-17\n",
      " -1.47603797e-16]\n",
      "[1. 1. 1. 1. 1. 1. 1. 1. 1.]\n"
     ]
    }
   ],
   "source": [
    "from sklearn.preprocessing import StandardScaler\n",
    "scaler = StandardScaler() \n",
    "employee_churn_clean = employee_churn.drop('department', axis=1)\n",
    "data_scaled = scaler.fit_transform(employee_churn_clean)\n",
    "\n",
    "#checking the mean and std after scaling\n",
    "print(data_scaled.mean(axis=0))\n",
    "print(data_scaled.std(axis=0))"
   ]
  },
  {
   "cell_type": "code",
   "execution_count": 17,
   "id": "53e9d243",
   "metadata": {},
   "outputs": [],
   "source": [
    "data_scaled = pd.DataFrame(data_scaled, columns = ['avg_monthly_hrs', 'filed_complaint','last_evaluation', 'n_projects',\n",
    "       'recently_promoted', 'salary', 'satisfaction', 'status', 'tenure'])"
   ]
  },
  {
   "cell_type": "markdown",
   "id": "dd41618c",
   "metadata": {},
   "source": [
    "We want to observe the relationship between Xs and Y - satisfactionm, hypothesis: We can predict the outcome variable with our features using regression."
   ]
  },
  {
   "cell_type": "code",
   "execution_count": 29,
   "id": "e02e7525",
   "metadata": {},
   "outputs": [
    {
     "name": "stdout",
     "output_type": "stream",
     "text": [
      "R^2 0.16408538118404725\n"
     ]
    }
   ],
   "source": [
    "X = data_scaled[['avg_monthly_hrs', 'filed_complaint','last_evaluation', 'n_projects',\n",
    "       'recently_promoted', 'salary',  'status', 'tenure']]\n",
    "\n",
    "Y = data_scaled['satisfaction']\n",
    "\n",
    "# Generating training and testing data from our data:\n",
    "# We are using 80% data for training.\n",
    "train = data_scaled[:(int((len(data_scaled)*0.8)))]\n",
    "test = data_scaled[(int((len(data_scaled)*0.8))):]\n",
    "\n",
    "regr = linear_model.LinearRegression()\n",
    "\n",
    "train_x = np.array(train[['avg_monthly_hrs', 'filed_complaint','last_evaluation', 'n_projects',\n",
    "       'recently_promoted', 'salary',  'status', 'tenure']])\n",
    "train_y = np.array(train['satisfaction'])\n",
    "\n",
    "regr.fit(train_x,train_y)\n",
    "test_x = np.array(test[['avg_monthly_hrs', 'filed_complaint','last_evaluation', 'n_projects',\n",
    "       'recently_promoted', 'salary',  'status', 'tenure']])\n",
    "test_y = np.array(test['satisfaction'])\n",
    "\n",
    "coeff_data = pd.DataFrame(regr.coef_, X.columns , columns=['Coefficients'])\n",
    "coeff_data\n",
    "\n",
    "Y_pred = regr.predict(test_x)\n",
    "\n",
    "#len(Y_pred)\n",
    "\n",
    "#len(test_y)\n",
    "\n",
    "from sklearn.metrics import r2_score\n",
    "general_model_R = r2_score(test_y , Y_pred)\n",
    "print ('R^2',general_model_R) "
   ]
  },
  {
   "cell_type": "markdown",
   "id": "e7a6236c",
   "metadata": {},
   "source": [
    "a good R^2 is 0.9, 0.15 is too low "
   ]
  },
  {
   "cell_type": "markdown",
   "id": "30ea1e18",
   "metadata": {},
   "source": [
    "The statsmodel package gives us the summary statistics."
   ]
  },
  {
   "cell_type": "code",
   "execution_count": 30,
   "id": "d53c501e",
   "metadata": {},
   "outputs": [
    {
     "name": "stdout",
     "output_type": "stream",
     "text": [
      "                                 OLS Regression Results                                \n",
      "=======================================================================================\n",
      "Dep. Variable:                      y   R-squared (uncentered):                   0.167\n",
      "Model:                            OLS   Adj. R-squared (uncentered):              0.166\n",
      "Method:                 Least Squares   F-statistic:                              285.2\n",
      "Date:                Mon, 07 Nov 2022   Prob (F-statistic):                        0.00\n",
      "Time:                        11:59:48   Log-Likelihood:                         -15107.\n",
      "No. Observations:               11399   AIC:                                  3.023e+04\n",
      "Df Residuals:                   11391   BIC:                                  3.029e+04\n",
      "Df Model:                           8                                                  \n",
      "Covariance Type:            nonrobust                                                  \n",
      "==============================================================================\n",
      "                 coef    std err          t      P>|t|      [0.025      0.975]\n",
      "------------------------------------------------------------------------------\n",
      "x1             0.1012      0.010     10.441      0.000       0.082       0.120\n",
      "x2            -0.0003      0.009     -0.039      0.969      -0.017       0.017\n",
      "x3             0.1176      0.009     12.603      0.000       0.099       0.136\n",
      "x4            -0.1700      0.010    -17.269      0.000      -0.189      -0.151\n",
      "x5             0.0058      0.009      0.671      0.502      -0.011       0.023\n",
      "x6            -0.0022      0.009     -0.250      0.802      -0.019       0.015\n",
      "x7            -0.3783      0.009    -42.643      0.000      -0.396      -0.361\n",
      "x8             0.0198      0.009      2.176      0.030       0.002       0.038\n",
      "==============================================================================\n",
      "Omnibus:                      279.168   Durbin-Watson:                   1.973\n",
      "Prob(Omnibus):                  0.000   Jarque-Bera (JB):              265.222\n",
      "Skew:                          -0.334   Prob(JB):                     2.56e-58\n",
      "Kurtosis:                       2.663   Cond. No.                         1.87\n",
      "==============================================================================\n",
      "\n",
      "Notes:\n",
      "[1] R² is computed without centering (uncentered) since the model does not contain a constant.\n",
      "[2] Standard Errors assume that the covariance matrix of the errors is correctly specified.\n"
     ]
    }
   ],
   "source": [
    "model = sm.OLS(train_y, train_x)\n",
    "general_model_results = model.fit()\n",
    "print(general_model_results.summary())"
   ]
  },
  {
   "cell_type": "markdown",
   "id": "8493be8a",
   "metadata": {},
   "source": [
    "Conclusion: the R^2 from the summary statistics and my hand calculated generated the same outcome. We cannot predict the outcome variable with our features using regression. It looks like x1, x3, x4, and x7 is significant based on the P-value. T-test is for categorical data but we have only numerical data points and F stat is to compare significance between different models. Right now these two tests don't apply to our observation yet. "
   ]
  },
  {
   "cell_type": "markdown",
   "id": "4d3390ff",
   "metadata": {},
   "source": [
    "looking for differences between departments, hypothesis: maybe some departments have a lower safication rate"
   ]
  },
  {
   "cell_type": "code",
   "execution_count": 20,
   "id": "9ec5ae49",
   "metadata": {},
   "outputs": [
    {
     "data": {
      "text/plain": [
       "array(['engineering', 'support', 'sales', 'IT', 'product', 'marketing',\n",
       "       'temp', 'procurement', 'finance', 0, 'management',\n",
       "       'information_technology', 'admin'], dtype=object)"
      ]
     },
     "execution_count": 20,
     "metadata": {},
     "output_type": "execute_result"
    }
   ],
   "source": [
    "employee_churn.department.unique()"
   ]
  },
  {
   "cell_type": "code",
   "execution_count": 27,
   "id": "9e9bb775",
   "metadata": {},
   "outputs": [
    {
     "data": {
      "text/html": [
       "<div>\n",
       "<style scoped>\n",
       "    .dataframe tbody tr th:only-of-type {\n",
       "        vertical-align: middle;\n",
       "    }\n",
       "\n",
       "    .dataframe tbody tr th {\n",
       "        vertical-align: top;\n",
       "    }\n",
       "\n",
       "    .dataframe thead th {\n",
       "        text-align: right;\n",
       "    }\n",
       "</style>\n",
       "<table border=\"1\" class=\"dataframe\">\n",
       "  <thead>\n",
       "    <tr style=\"text-align: right;\">\n",
       "      <th></th>\n",
       "      <th>avg_monthly_hrs</th>\n",
       "      <th>filed_complaint</th>\n",
       "      <th>last_evaluation</th>\n",
       "      <th>n_projects</th>\n",
       "      <th>recently_promoted</th>\n",
       "      <th>salary</th>\n",
       "      <th>satisfaction</th>\n",
       "      <th>status</th>\n",
       "      <th>tenure</th>\n",
       "    </tr>\n",
       "  </thead>\n",
       "  <tbody>\n",
       "    <tr>\n",
       "      <th>0</th>\n",
       "      <td>0.367064</td>\n",
       "      <td>-0.40161</td>\n",
       "      <td>1.036983</td>\n",
       "      <td>0.101255</td>\n",
       "      <td>-0.10066</td>\n",
       "      <td>-0.903431</td>\n",
       "      <td>0.830760</td>\n",
       "      <td>1.709190</td>\n",
       "      <td>1.269758</td>\n",
       "    </tr>\n",
       "    <tr>\n",
       "      <th>1</th>\n",
       "      <td>-1.039351</td>\n",
       "      <td>-0.40161</td>\n",
       "      <td>-0.036294</td>\n",
       "      <td>0.101255</td>\n",
       "      <td>-0.10066</td>\n",
       "      <td>-0.903431</td>\n",
       "      <td>0.700602</td>\n",
       "      <td>-0.585072</td>\n",
       "      <td>-0.319816</td>\n",
       "    </tr>\n",
       "    <tr>\n",
       "      <th>2</th>\n",
       "      <td>0.248212</td>\n",
       "      <td>2.48998</td>\n",
       "      <td>-0.484814</td>\n",
       "      <td>-0.691657</td>\n",
       "      <td>-0.10066</td>\n",
       "      <td>0.696086</td>\n",
       "      <td>0.380514</td>\n",
       "      <td>-0.585072</td>\n",
       "      <td>2.859331</td>\n",
       "    </tr>\n",
       "    <tr>\n",
       "      <th>3</th>\n",
       "      <td>1.733862</td>\n",
       "      <td>-0.40161</td>\n",
       "      <td>0.431548</td>\n",
       "      <td>1.687079</td>\n",
       "      <td>-0.10066</td>\n",
       "      <td>0.696086</td>\n",
       "      <td>-2.067465</td>\n",
       "      <td>1.709190</td>\n",
       "      <td>0.474971</td>\n",
       "    </tr>\n",
       "    <tr>\n",
       "      <th>4</th>\n",
       "      <td>-1.019543</td>\n",
       "      <td>-0.40161</td>\n",
       "      <td>-0.750195</td>\n",
       "      <td>0.101255</td>\n",
       "      <td>-0.10066</td>\n",
       "      <td>0.696086</td>\n",
       "      <td>0.159501</td>\n",
       "      <td>-0.585072</td>\n",
       "      <td>-0.319816</td>\n",
       "    </tr>\n",
       "    <tr>\n",
       "      <th>...</th>\n",
       "      <td>...</td>\n",
       "      <td>...</td>\n",
       "      <td>...</td>\n",
       "      <td>...</td>\n",
       "      <td>...</td>\n",
       "      <td>...</td>\n",
       "      <td>...</td>\n",
       "      <td>...</td>\n",
       "      <td>...</td>\n",
       "    </tr>\n",
       "    <tr>\n",
       "      <th>2587</th>\n",
       "      <td>1.000941</td>\n",
       "      <td>2.48998</td>\n",
       "      <td>0.993251</td>\n",
       "      <td>1.687079</td>\n",
       "      <td>-0.10066</td>\n",
       "      <td>-0.903431</td>\n",
       "      <td>-1.769274</td>\n",
       "      <td>1.709190</td>\n",
       "      <td>0.474971</td>\n",
       "    </tr>\n",
       "    <tr>\n",
       "      <th>2588</th>\n",
       "      <td>-1.990167</td>\n",
       "      <td>-0.40161</td>\n",
       "      <td>-0.507254</td>\n",
       "      <td>-1.484569</td>\n",
       "      <td>-0.10066</td>\n",
       "      <td>0.696086</td>\n",
       "      <td>-0.662254</td>\n",
       "      <td>-0.585072</td>\n",
       "      <td>3.654118</td>\n",
       "    </tr>\n",
       "    <tr>\n",
       "      <th>2589</th>\n",
       "      <td>-0.425283</td>\n",
       "      <td>-0.40161</td>\n",
       "      <td>-0.048848</td>\n",
       "      <td>-0.691657</td>\n",
       "      <td>-0.10066</td>\n",
       "      <td>2.295604</td>\n",
       "      <td>0.000068</td>\n",
       "      <td>-0.585072</td>\n",
       "      <td>-1.114602</td>\n",
       "    </tr>\n",
       "    <tr>\n",
       "      <th>2590</th>\n",
       "      <td>-1.415716</td>\n",
       "      <td>-0.40161</td>\n",
       "      <td>-0.458440</td>\n",
       "      <td>-1.484569</td>\n",
       "      <td>-0.10066</td>\n",
       "      <td>-0.903431</td>\n",
       "      <td>-1.081868</td>\n",
       "      <td>1.709190</td>\n",
       "      <td>-0.319816</td>\n",
       "    </tr>\n",
       "    <tr>\n",
       "      <th>2591</th>\n",
       "      <td>1.377306</td>\n",
       "      <td>-0.40161</td>\n",
       "      <td>0.600037</td>\n",
       "      <td>0.101255</td>\n",
       "      <td>-0.10066</td>\n",
       "      <td>-0.903431</td>\n",
       "      <td>0.295796</td>\n",
       "      <td>-0.585072</td>\n",
       "      <td>-1.114602</td>\n",
       "    </tr>\n",
       "  </tbody>\n",
       "</table>\n",
       "<p>2592 rows × 9 columns</p>\n",
       "</div>"
      ],
      "text/plain": [
       "      avg_monthly_hrs  filed_complaint  last_evaluation  n_projects  \\\n",
       "0            0.367064         -0.40161         1.036983    0.101255   \n",
       "1           -1.039351         -0.40161        -0.036294    0.101255   \n",
       "2            0.248212          2.48998        -0.484814   -0.691657   \n",
       "3            1.733862         -0.40161         0.431548    1.687079   \n",
       "4           -1.019543         -0.40161        -0.750195    0.101255   \n",
       "...               ...              ...              ...         ...   \n",
       "2587         1.000941          2.48998         0.993251    1.687079   \n",
       "2588        -1.990167         -0.40161        -0.507254   -1.484569   \n",
       "2589        -0.425283         -0.40161        -0.048848   -0.691657   \n",
       "2590        -1.415716         -0.40161        -0.458440   -1.484569   \n",
       "2591         1.377306         -0.40161         0.600037    0.101255   \n",
       "\n",
       "      recently_promoted    salary  satisfaction    status    tenure  \n",
       "0              -0.10066 -0.903431      0.830760  1.709190  1.269758  \n",
       "1              -0.10066 -0.903431      0.700602 -0.585072 -0.319816  \n",
       "2              -0.10066  0.696086      0.380514 -0.585072  2.859331  \n",
       "3              -0.10066  0.696086     -2.067465  1.709190  0.474971  \n",
       "4              -0.10066  0.696086      0.159501 -0.585072 -0.319816  \n",
       "...                 ...       ...           ...       ...       ...  \n",
       "2587           -0.10066 -0.903431     -1.769274  1.709190  0.474971  \n",
       "2588           -0.10066  0.696086     -0.662254 -0.585072  3.654118  \n",
       "2589           -0.10066  2.295604      0.000068 -0.585072 -1.114602  \n",
       "2590           -0.10066 -0.903431     -1.081868  1.709190 -0.319816  \n",
       "2591           -0.10066 -0.903431      0.295796 -0.585072 -1.114602  \n",
       "\n",
       "[2592 rows x 9 columns]"
      ]
     },
     "execution_count": 27,
     "metadata": {},
     "output_type": "execute_result"
    }
   ],
   "source": [
    "engineering = employee_churn.loc[employee_churn['department'] == 'engineering']\n",
    "engineering = engineering.drop('department', axis=1)\n",
    "engineering = scaler.fit_transform(engineering)\n",
    "engineering = pd.DataFrame(engineering, columns = ['avg_monthly_hrs', 'filed_complaint','last_evaluation', 'n_projects',\n",
    "       'recently_promoted', 'salary', 'satisfaction', 'status', 'tenure'])\n",
    "engineering"
   ]
  },
  {
   "cell_type": "code",
   "execution_count": 31,
   "id": "82803b78",
   "metadata": {},
   "outputs": [
    {
     "name": "stdout",
     "output_type": "stream",
     "text": [
      "R^2 0.19456060499174543\n"
     ]
    }
   ],
   "source": [
    "X = engineering[['avg_monthly_hrs', 'filed_complaint','last_evaluation', 'n_projects',\n",
    "       'recently_promoted', 'salary',  'status', 'tenure']]\n",
    "\n",
    "Y = engineering['satisfaction']\n",
    "\n",
    "# Generating training and testing data from our data:\n",
    "# We are using 80% data for training.\n",
    "train = engineering[:(int((len(engineering)*0.8)))]\n",
    "test = engineering[(int((len(engineering)*0.8))):]\n",
    "\n",
    "regr = linear_model.LinearRegression()\n",
    "\n",
    "train_x = np.array(train[['avg_monthly_hrs', 'filed_complaint','last_evaluation', 'n_projects',\n",
    "       'recently_promoted', 'salary',  'status', 'tenure']])\n",
    "train_y = np.array(train['satisfaction'])\n",
    "\n",
    "regr.fit(train_x,train_y)\n",
    "test_x = np.array(test[['avg_monthly_hrs', 'filed_complaint','last_evaluation', 'n_projects',\n",
    "       'recently_promoted', 'salary',  'status', 'tenure']])\n",
    "test_y = np.array(test['satisfaction'])\n",
    "\n",
    "coeff_data = pd.DataFrame(regr.coef_, X.columns , columns=['Coefficients'])\n",
    "coeff_data\n",
    "\n",
    "Y_pred = regr.predict(test_x)\n",
    "\n",
    "len(Y_pred)\n",
    "\n",
    "len(test_y)\n",
    "\n",
    "from sklearn.metrics import r2_score\n",
    "engineering_R = r2_score(test_y , Y_pred)\n",
    "print ('R^2',engineering_R) #a good R^2 is 0.9, 0.19 is too low so we decided to observe based on the department"
   ]
  },
  {
   "cell_type": "code",
   "execution_count": 33,
   "id": "9b5239b1",
   "metadata": {
    "scrolled": true
   },
   "outputs": [
    {
     "name": "stdout",
     "output_type": "stream",
     "text": [
      "                                 OLS Regression Results                                \n",
      "=======================================================================================\n",
      "Dep. Variable:                      y   R-squared (uncentered):                   0.189\n",
      "Model:                            OLS   Adj. R-squared (uncentered):              0.186\n",
      "Method:                 Least Squares   F-statistic:                              60.17\n",
      "Date:                Mon, 07 Nov 2022   Prob (F-statistic):                    1.41e-88\n",
      "Time:                        12:00:20   Log-Likelihood:                         -2711.9\n",
      "No. Observations:                2073   AIC:                                      5440.\n",
      "Df Residuals:                    2065   BIC:                                      5485.\n",
      "Df Model:                           8                                                  \n",
      "Covariance Type:            nonrobust                                                  \n",
      "==============================================================================\n",
      "                 coef    std err          t      P>|t|      [0.025      0.975]\n",
      "------------------------------------------------------------------------------\n",
      "x1             0.0399      0.022      1.789      0.074      -0.004       0.084\n",
      "x2            -0.0053      0.020     -0.268      0.789      -0.045       0.034\n",
      "x3             0.0695      0.021      3.317      0.001       0.028       0.111\n",
      "x4            -0.1821      0.023     -7.997      0.000      -0.227      -0.137\n",
      "x5             0.0191      0.019      0.996      0.319      -0.019       0.057\n",
      "x6             0.0148      0.020      0.744      0.457      -0.024       0.054\n",
      "x7            -0.3975      0.021    -19.022      0.000      -0.438      -0.356\n",
      "x8             0.0205      0.022      0.927      0.354      -0.023       0.064\n",
      "==============================================================================\n",
      "Omnibus:                       34.561   Durbin-Watson:                   2.023\n",
      "Prob(Omnibus):                  0.000   Jarque-Bera (JB):               23.473\n",
      "Skew:                          -0.136   Prob(JB):                     8.00e-06\n",
      "Kurtosis:                       2.556   Cond. No.                         1.95\n",
      "==============================================================================\n",
      "\n",
      "Notes:\n",
      "[1] R² is computed without centering (uncentered) since the model does not contain a constant.\n",
      "[2] Standard Errors assume that the covariance matrix of the errors is correctly specified.\n"
     ]
    }
   ],
   "source": [
    "model = sm.OLS(train_y, train_x)\n",
    "engineering_results = model.fit()\n",
    "print(engineering_results.summary())"
   ]
  },
  {
   "cell_type": "markdown",
   "id": "d6352f4a",
   "metadata": {},
   "source": [
    "Conclusion: the R^2 from the summary statistics and my hand calculated generated the same outcome, with a lightly bigger difference than before. It's still not enough to predict the outcome variable with our features using regression. It looks like x1, x3, x4, and x7 are still significant based on the P-value. There is a difference between departments and the general model"
   ]
  },
  {
   "cell_type": "markdown",
   "id": "5888ce97",
   "metadata": {},
   "source": [
    "Given no success with regression, running naive bayes for employee churn status, hypothesis: we can estimate the status of employee churn "
   ]
  },
  {
   "cell_type": "markdown",
   "id": "d237f028",
   "metadata": {},
   "source": [
    "I assume that every feature makes an independent and equal contribution to the outcome. Given the VIF scores, it's likely that the difference between feature's contribution is relatively small. "
   ]
  },
  {
   "cell_type": "markdown",
   "id": "a31cb8e8",
   "metadata": {},
   "source": [
    "Naive Bayes\n",
    "\n",
    "Did you use additive smoothing? - no, that's for categorical data\n",
    "Did you reduce the complexity of the data by using NLP? - no, it's not a NLP problem\n",
    "Did you use training & test data? -yes\n",
    "Did you have a ROC curve and an AUC? -yes"
   ]
  },
  {
   "cell_type": "code",
   "execution_count": 34,
   "id": "17ec660e",
   "metadata": {},
   "outputs": [],
   "source": [
    "employee_churn_NB = employee_churn_clean\n",
    "X = employee_churn_NB[['avg_monthly_hrs','filed_complaint','last_evaluation','n_projects','salary','satisfaction',\n",
    "          'tenure']]\n",
    "\n",
    "y = employee_churn_NB['status']\n",
    "\n",
    "from sklearn.model_selection import train_test_split\n",
    "X_train, X_test, y_train, y_test = train_test_split(X, y, test_size = 0.20, random_state = 0)\n",
    "\n",
    "#standarization\n",
    "from sklearn.preprocessing import StandardScaler\n",
    "sc = StandardScaler()\n",
    "X_train = sc.fit_transform(X_train)\n",
    "X_test = sc.transform(X_test)\n",
    "\n",
    "from sklearn.naive_bayes import GaussianNB\n",
    "classifier = GaussianNB()\n",
    "classifier.fit(X_train, y_train)\n",
    "\n",
    "y_pred  =  classifier.predict(X_test)\n",
    "\n",
    "#y_pred\n",
    "\n",
    "#y_test\n",
    "\n",
    "from sklearn.metrics import confusion_matrix,accuracy_score\n",
    "cm = confusion_matrix(y_test, y_pred)\n",
    "ac = accuracy_score(y_test,y_pred)"
   ]
  },
  {
   "cell_type": "code",
   "execution_count": 35,
   "id": "cc1b0bd3",
   "metadata": {},
   "outputs": [
    {
     "data": {
      "text/plain": [
       "array([[2005,  208],\n",
       "       [ 264,  373]])"
      ]
     },
     "execution_count": 35,
     "metadata": {},
     "output_type": "execute_result"
    }
   ],
   "source": [
    "cm #confusion matrix"
   ]
  },
  {
   "cell_type": "code",
   "execution_count": 36,
   "id": "53a6dfa9",
   "metadata": {},
   "outputs": [
    {
     "data": {
      "text/plain": [
       "0.8343859649122807"
      ]
     },
     "execution_count": 36,
     "metadata": {},
     "output_type": "execute_result"
    }
   ],
   "source": [
    "ac"
   ]
  },
  {
   "cell_type": "code",
   "execution_count": 45,
   "id": "9d516bba",
   "metadata": {},
   "outputs": [
    {
     "data": {
      "image/png": "[encoded data removed]",
      "text/plain": [
       "<Figure size 432x288 with 1 Axes>"
      ]
     },
     "metadata": {
      "needs_background": "light"
     },
     "output_type": "display_data"
    }
   ],
   "source": [
    "fpr, tpr, _ = metrics.roc_curve(y_test,  y_pred)\n",
    "auc = metrics.roc_auc_score(y_test, y_pred)\n",
    "\n",
    "#create ROC curve\n",
    "plt.plot(fpr,tpr)\n",
    "plt.ylabel('True Positive Rate')\n",
    "plt.xlabel('False Positive Rate')\n",
    "plt.show()"
   ]
  },
  {
   "cell_type": "code",
   "execution_count": 44,
   "id": "6b567163",
   "metadata": {},
   "outputs": [
    {
     "data": {
      "image/png": "[encoded data removed]",
      "text/plain": [
       "<Figure size 432x288 with 1 Axes>"
      ]
     },
     "metadata": {
      "needs_background": "light"
     },
     "output_type": "display_data"
    }
   ],
   "source": [
    "plt.figure()\n",
    "lw = 2\n",
    "plt.plot(\n",
    "fpr, tpr,\n",
    "    color=\"darkorange\",\n",
    "    lw=lw,\n",
    "    label=\"ROC curve (area = %0.2f)\" % auc,\n",
    ")\n",
    "plt.plot([0, 1], [0, 1], color=\"navy\", lw=lw, linestyle=\"--\")\n",
    "plt.xlim([0.0, 1.0])\n",
    "plt.ylim([0.0, 1.05])\n",
    "plt.xlabel(\"False Positive Rate\")\n",
    "plt.ylabel(\"True Positive Rate\")\n",
    "plt.title(\"employee churn rate\")\n",
    "plt.legend(loc=\"lower right\")\n",
    "plt.show()"
   ]
  },
  {
   "cell_type": "markdown",
   "id": "c40601a5",
   "metadata": {},
   "source": [
    "Conclusion: there is a 83% possibility that 60% of the employees want to leave."
   ]
  }
 ],
 "metadata": {
  "kernelspec": {
   "display_name": "Python 3",
   "language": "python",
   "name": "python3"
  },
  "language_info": {
   "codemirror_mode": {
    "name": "ipython",
    "version": 3
   },
   "file_extension": ".py",
   "mimetype": "text/x-python",
   "name": "python",
   "nbconvert_exporter": "python",
   "pygments_lexer": "ipython3",
   "version": "3.9.12"
  }
 },
 "nbformat": 4,
 "nbformat_minor": 5
}
